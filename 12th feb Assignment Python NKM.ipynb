{
 "cells": [
  {
   "cell_type": "markdown",
   "id": "6a7c0ca5",
   "metadata": {},
   "source": [
    "Q1.What is an exception in python?Write the difference between Exception and syntax errors."
   ]
  },
  {
   "cell_type": "markdown",
   "id": "68ad24a3",
   "metadata": {},
   "source": [
    "Ans: An exception in Python is an event that occurs during the execution of a program that disrupts the normal flow of the program's instructions. It signals that there is something wrong with the code and prevents the program from continuing to run until the issue is resolved.\n",
    "\n",
    "Syntax errors, on the other hand, are mistakes in the syntax of the code that prevent the code from being executed correctly. Syntax errors occur when the code doesn't follow the correct structure or format required by the Python programming language, such as a missing parenthesis, a misspelled keyword, or an incorrect indentation.\n",
    "\n",
    "The main difference between exceptions and syntax errors is that exceptions are raised at runtime, while syntax errors are caught by the Python interpreter before the code is executed. Syntax errors prevent the code from being executed, while exceptions allow the code to be executed but interrupt its normal flow. Additionally, exceptions can be handled and resolved within the code, while syntax errors must be fixed in the code itself before it can be executed."
   ]
  },
  {
   "cell_type": "markdown",
   "id": "f3e35698",
   "metadata": {},
   "source": [
    "Q2.What happens when an exception is not handled?Explain with an example."
   ]
  },
  {
   "cell_type": "markdown",
   "id": "c671a5c2",
   "metadata": {},
   "source": [
    "Ans: When an exception is not handled in Python, the program stops executing and raises an error message called a traceback. The traceback provides details about the exception that was raised, including the line of code where the exception occurred and a description of the exception.\n",
    "\n",
    "For example, consider the following code that tries to divide a number by zero:"
   ]
  },
  {
   "cell_type": "code",
   "execution_count": 1,
   "id": "30833729",
   "metadata": {},
   "outputs": [
    {
     "ename": "ZeroDivisionError",
     "evalue": "division by zero",
     "output_type": "error",
     "traceback": [
      "\u001b[1;31m---------------------------------------------------------------------------\u001b[0m",
      "\u001b[1;31mZeroDivisionError\u001b[0m                         Traceback (most recent call last)",
      "Input \u001b[1;32mIn [1]\u001b[0m, in \u001b[0;36m<cell line: 4>\u001b[1;34m()\u001b[0m\n\u001b[0;32m      1\u001b[0m \u001b[38;5;28;01mdef\u001b[39;00m \u001b[38;5;21mdivide\u001b[39m(a, b):\n\u001b[0;32m      2\u001b[0m     \u001b[38;5;28;01mreturn\u001b[39;00m a \u001b[38;5;241m/\u001b[39m b\n\u001b[1;32m----> 4\u001b[0m result \u001b[38;5;241m=\u001b[39m \u001b[43mdivide\u001b[49m\u001b[43m(\u001b[49m\u001b[38;5;241;43m10\u001b[39;49m\u001b[43m,\u001b[49m\u001b[43m \u001b[49m\u001b[38;5;241;43m0\u001b[39;49m\u001b[43m)\u001b[49m\n\u001b[0;32m      5\u001b[0m \u001b[38;5;28mprint\u001b[39m(result)\n",
      "Input \u001b[1;32mIn [1]\u001b[0m, in \u001b[0;36mdivide\u001b[1;34m(a, b)\u001b[0m\n\u001b[0;32m      1\u001b[0m \u001b[38;5;28;01mdef\u001b[39;00m \u001b[38;5;21mdivide\u001b[39m(a, b):\n\u001b[1;32m----> 2\u001b[0m     \u001b[38;5;28;01mreturn\u001b[39;00m \u001b[43ma\u001b[49m\u001b[43m \u001b[49m\u001b[38;5;241;43m/\u001b[39;49m\u001b[43m \u001b[49m\u001b[43mb\u001b[49m\n",
      "\u001b[1;31mZeroDivisionError\u001b[0m: division by zero"
     ]
    }
   ],
   "source": [
    "def divide(a, b):\n",
    "    return a / b\n",
    "\n",
    "result = divide(10, 0)\n",
    "print(result)"
   ]
  },
  {
   "cell_type": "markdown",
   "id": "2b3ca8b9",
   "metadata": {},
   "source": [
    "Q3.Which python statements used to catch handle Exception?Explain with an example."
   ]
  },
  {
   "cell_type": "markdown",
   "id": "64666d69",
   "metadata": {},
   "source": [
    "Ans:In Python, the try and except statements are used to catch and handle exceptions. The try statement contains the code that might raise an exception, and the except statement contains the code that will be executed if an exception is raised.\n",
    "\n",
    "Here's a simple example:"
   ]
  },
  {
   "cell_type": "code",
   "execution_count": 2,
   "id": "bc4b3906",
   "metadata": {},
   "outputs": [
    {
     "name": "stdout",
     "output_type": "stream",
     "text": [
      "Cannot divide by zero!\n"
     ]
    }
   ],
   "source": [
    "try:\n",
    "    result = 10 / 0\n",
    "except ZeroDivisionError:\n",
    "    print(\"Cannot divide by zero!\")"
   ]
  },
  {
   "cell_type": "markdown",
   "id": "0d96793f",
   "metadata": {},
   "source": [
    "You can catch specific exceptions by providing the name of the exception after the except keyword. In the example above, we are catching the ZeroDivisionError exception. You can also catch multiple exceptions in a single except block by separating the exception names with a comma. For example:"
   ]
  },
  {
   "cell_type": "code",
   "execution_count": 3,
   "id": "2ad167d8",
   "metadata": {},
   "outputs": [
    {
     "name": "stdout",
     "output_type": "stream",
     "text": [
      "Cannot convert string to int!\n"
     ]
    }
   ],
   "source": [
    "try:\n",
    "    result = 10 / int(\"a\")\n",
    "except ZeroDivisionError:\n",
    "    print(\"Cannot divide by zero!\")\n",
    "except ValueError:\n",
    "    print(\"Cannot convert string to int!\")"
   ]
  },
  {
   "cell_type": "markdown",
   "id": "87f66fa5",
   "metadata": {},
   "source": [
    "Q4.Explain with an Example:\n",
    "    a.try and else\n",
    "    b.finally\n",
    "    c.raise"
   ]
  },
  {
   "cell_type": "markdown",
   "id": "4320b80b",
   "metadata": {},
   "source": [
    "a. try and else\n",
    "\n",
    "The else statement in a try/except block is executed if no exception is raised in the try block. The else block is useful for executing code that should only be run if there are no exceptions. Here's an example:"
   ]
  },
  {
   "cell_type": "code",
   "execution_count": 6,
   "id": "4ca21261",
   "metadata": {},
   "outputs": [
    {
     "name": "stdout",
     "output_type": "stream",
     "text": [
      "The result is 5.0\n"
     ]
    }
   ],
   "source": [
    "try:\n",
    "    result = 10 / 2\n",
    "except ZeroDivisionError:\n",
    "    print(\"Cannot divide by zero!\")\n",
    "else:\n",
    "    print(f\"The result is {result}\")"
   ]
  },
  {
   "cell_type": "markdown",
   "id": "a6228f52",
   "metadata": {},
   "source": [
    "b. finally\n",
    "\n",
    "The finally statement in a try/except block is executed no matter what. It is used for cleanup tasks that should be run regardless of whether an exception was raised or not. Here's an example:"
   ]
  },
  {
   "cell_type": "code",
   "execution_count": 7,
   "id": "bf3d94b2",
   "metadata": {},
   "outputs": [
    {
     "name": "stdout",
     "output_type": "stream",
     "text": [
      "Cannot divide by zero!\n",
      "The finally block has been executed\n"
     ]
    }
   ],
   "source": [
    "try:\n",
    "    result = 10 / 0\n",
    "except ZeroDivisionError:\n",
    "    print(\"Cannot divide by zero!\")\n",
    "finally:\n",
    "    print(\"The finally block has been executed\")"
   ]
  },
  {
   "cell_type": "markdown",
   "id": "996c8174",
   "metadata": {},
   "source": [
    "c. raise\n",
    "\n",
    "The raise statement is used to raise an exception. This can be useful if you want to signal that an error has occurred in your code. Here's an example:"
   ]
  },
  {
   "cell_type": "code",
   "execution_count": 8,
   "id": "666d3e90",
   "metadata": {},
   "outputs": [
    {
     "name": "stdout",
     "output_type": "stream",
     "text": [
      "Cannot divide by zero\n"
     ]
    }
   ],
   "source": [
    "def divide(a, b):\n",
    "    if b == 0:\n",
    "        raise ZeroDivisionError(\"Cannot divide by zero\")\n",
    "    return a / b\n",
    "\n",
    "try:\n",
    "    result = divide(10, 0)\n",
    "except ZeroDivisionError as e:\n",
    "    print(e)"
   ]
  },
  {
   "cell_type": "markdown",
   "id": "5aa69a26",
   "metadata": {},
   "source": [
    "Q5.What are custom Exceptions in python?Why do we need Custom Exceptions?Explain with an Example."
   ]
  },
  {
   "cell_type": "markdown",
   "id": "c92f1e41",
   "metadata": {},
   "source": [
    "Ans:In Python, custom exceptions are user-defined exceptions that can be raised to signal specific error conditions in your code. Custom exceptions allow you to define your own exceptions that can be caught and handled in a way that makes sense for your specific use case.\n",
    "\n",
    "The need for custom exceptions arises when the built-in exceptions provided by Python are not specific enough to handle a particular error in your code. For example, you may want to raise a custom exception if a particular input is invalid, or if a user tries to access a resource they are not authorized to access. By raising a custom exception, you can provide a more informative error message and handle the error in a way that makes sense for your specific use case.\n",
    "\n",
    "Here's an example of how to create and raise a custom exception in Python:"
   ]
  },
  {
   "cell_type": "code",
   "execution_count": 9,
   "id": "5331f35a",
   "metadata": {},
   "outputs": [
    {
     "name": "stdout",
     "output_type": "stream",
     "text": [
      "Input value cannot be negative\n"
     ]
    }
   ],
   "source": [
    "class InvalidInputError(Exception):\n",
    "    pass\n",
    "\n",
    "def validate_input(input_value):\n",
    "    if input_value < 0:\n",
    "        raise InvalidInputError(\"Input value cannot be negative\")\n",
    "\n",
    "try:\n",
    "    validate_input(-10)\n",
    "except InvalidInputError as e:\n",
    "    print(e)"
   ]
  },
  {
   "cell_type": "markdown",
   "id": "65409694",
   "metadata": {},
   "source": [
    "Q6.Create a custom Exception class.Use this class to handle an Exception. "
   ]
  },
  {
   "cell_type": "code",
   "execution_count": 10,
   "id": "873bd974",
   "metadata": {},
   "outputs": [
    {
     "name": "stdout",
     "output_type": "stream",
     "text": [
      "This is a custom exception\n"
     ]
    }
   ],
   "source": [
    "class CustomException(Exception):\n",
    "    def __init__(self, message):\n",
    "        self.message = message\n",
    "\n",
    "try:\n",
    "    raise CustomException(\"This is a custom exception\")\n",
    "except CustomException as e:\n",
    "    print(e.message)"
   ]
  },
  {
   "cell_type": "code",
   "execution_count": null,
   "id": "98c2de30",
   "metadata": {},
   "outputs": [],
   "source": []
  }
 ],
 "metadata": {
  "kernelspec": {
   "display_name": "Python 3 (ipykernel)",
   "language": "python",
   "name": "python3"
  },
  "language_info": {
   "codemirror_mode": {
    "name": "ipython",
    "version": 3
   },
   "file_extension": ".py",
   "mimetype": "text/x-python",
   "name": "python",
   "nbconvert_exporter": "python",
   "pygments_lexer": "ipython3",
   "version": "3.10.5"
  }
 },
 "nbformat": 4,
 "nbformat_minor": 5
}
